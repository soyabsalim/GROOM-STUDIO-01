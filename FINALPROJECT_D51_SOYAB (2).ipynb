{
 "cells": [
  {
   "cell_type": "markdown",
   "id": "5335c0e5-712f-4d9b-93d5-1dbeb316e66a",
   "metadata": {},
   "source": [
    "# MARKETING AND PRODUCT PERFORMANCE "
   ]
  },
  {
   "cell_type": "code",
   "execution_count": 2,
   "id": "11e14e6a-d66f-458b-a461-6cb540d60066",
   "metadata": {},
   "outputs": [],
   "source": [
    "# Columns\n",
    "# 1 capaign \n",
    "   # refers to a campaign made to understand the customers\n",
    "# 2 product id \n",
    "   # this refers to the id of the each product\n",
    "# 3 budget\n",
    "# 4 clicks\n",
    "   # it refers to the clicks each product gets\n",
    "# 5 conversion\n",
    "   # this refers to how many clicks converted to sale\n",
    "# 6 revenue generated \n",
    "   # revenue generated through each product\n",
    "# 7 roi\n",
    "   # return on investment\n",
    "# 8 customer id \n",
    "   # id of each customers \n",
    "# 9 subscribtion tier\n",
    "   # refers to what type of subscribtion it is \n",
    "# 10 subcribtion length\n",
    "  # length of the subscribtion\n",
    "# 11 flash sale \n",
    "    # sale id \n",
    "# 12 discount level\n",
    "    # how much discount is given\n",
    "# 13 units sold \n",
    "   # no.of units sold\n",
    "# 14 bundle id \n",
    "   # id which refers to the items sold in bundle\n",
    "# 15 bundle price\n",
    "    # price of the bundle\n",
    "# 16 customer satisfaction\n",
    "  # wether the customer is satisfied or not\n",
    "# 17 common keywords\n",
    "   # refers to what the product is (stylish,durable,affordable,innovative)"
   ]
  },
  {
   "cell_type": "code",
   "execution_count": 3,
   "id": "068d05ab-f213-44f3-81cf-0ec9eea690bf",
   "metadata": {},
   "outputs": [],
   "source": [
    "import pandas as pd \n",
    "import numpy as np \n",
    "import seaborn as sns \n",
    "import matplotlib.pyplot as plt \n",
    "import seaborn as sns"
   ]
  },
  {
   "cell_type": "code",
   "execution_count": 4,
   "id": "ab80a8cc-3f44-4cf6-8756-b5ddf326a091",
   "metadata": {},
   "outputs": [],
   "source": [
    "df=pd.read_csv(r\"C:\\Users\\HP\\Desktop\\marketing_and_product_performance.csv\")"
   ]
  },
  {
   "cell_type": "code",
   "execution_count": 5,
   "id": "fb1b2f72-04d4-4c87-b9f7-8fa0925b7e5e",
   "metadata": {},
   "outputs": [
    {
     "data": {
      "text/html": [
       "<div>\n",
       "<style scoped>\n",
       "    .dataframe tbody tr th:only-of-type {\n",
       "        vertical-align: middle;\n",
       "    }\n",
       "\n",
       "    .dataframe tbody tr th {\n",
       "        vertical-align: top;\n",
       "    }\n",
       "\n",
       "    .dataframe thead th {\n",
       "        text-align: right;\n",
       "    }\n",
       "</style>\n",
       "<table border=\"1\" class=\"dataframe\">\n",
       "  <thead>\n",
       "    <tr style=\"text-align: right;\">\n",
       "      <th></th>\n",
       "      <th>Campaign_ID</th>\n",
       "      <th>Product_ID</th>\n",
       "      <th>Budget</th>\n",
       "      <th>Clicks</th>\n",
       "      <th>Conversions</th>\n",
       "      <th>Revenue_Generated</th>\n",
       "      <th>ROI</th>\n",
       "      <th>Customer_ID</th>\n",
       "      <th>Subscription_Tier</th>\n",
       "      <th>Subscription_Length</th>\n",
       "      <th>Flash_Sale_ID</th>\n",
       "      <th>Discount_Level</th>\n",
       "      <th>Units_Sold</th>\n",
       "      <th>Bundle_ID</th>\n",
       "      <th>Bundle_Price</th>\n",
       "      <th>Customer_Satisfaction_Post_Refund</th>\n",
       "      <th>Common_Keywords</th>\n",
       "    </tr>\n",
       "  </thead>\n",
       "  <tbody>\n",
       "    <tr>\n",
       "      <th>0</th>\n",
       "      <td>CMP_RLSDVN</td>\n",
       "      <td>PROD_HBJFA3</td>\n",
       "      <td>41770.45</td>\n",
       "      <td>4946</td>\n",
       "      <td>73</td>\n",
       "      <td>15520.09</td>\n",
       "      <td>1.94</td>\n",
       "      <td>CUST_1K7G39</td>\n",
       "      <td>Premium</td>\n",
       "      <td>4</td>\n",
       "      <td>FLASH_1VFK5K</td>\n",
       "      <td>43</td>\n",
       "      <td>34</td>\n",
       "      <td>BNDL_29U6W5</td>\n",
       "      <td>433.80</td>\n",
       "      <td>4</td>\n",
       "      <td>Affordable</td>\n",
       "    </tr>\n",
       "    <tr>\n",
       "      <th>1</th>\n",
       "      <td>CMP_JHHUE9</td>\n",
       "      <td>PROD_OE8YNJ</td>\n",
       "      <td>29900.93</td>\n",
       "      <td>570</td>\n",
       "      <td>510</td>\n",
       "      <td>30866.17</td>\n",
       "      <td>0.76</td>\n",
       "      <td>CUST_0DWS6F</td>\n",
       "      <td>Premium</td>\n",
       "      <td>4</td>\n",
       "      <td>FLASH_1M6COK</td>\n",
       "      <td>28</td>\n",
       "      <td>97</td>\n",
       "      <td>BNDL_ULV60J</td>\n",
       "      <td>289.29</td>\n",
       "      <td>2</td>\n",
       "      <td>Innovative</td>\n",
       "    </tr>\n",
       "    <tr>\n",
       "      <th>2</th>\n",
       "      <td>CMP_6SBOWN</td>\n",
       "      <td>PROD_4V8A08</td>\n",
       "      <td>22367.45</td>\n",
       "      <td>3546</td>\n",
       "      <td>265</td>\n",
       "      <td>32585.62</td>\n",
       "      <td>1.41</td>\n",
       "      <td>CUST_BR2GST</td>\n",
       "      <td>Basic</td>\n",
       "      <td>9</td>\n",
       "      <td>FLASH_J4PEON</td>\n",
       "      <td>51</td>\n",
       "      <td>160</td>\n",
       "      <td>BNDL_0HY0EF</td>\n",
       "      <td>462.87</td>\n",
       "      <td>4</td>\n",
       "      <td>Affordable</td>\n",
       "    </tr>\n",
       "    <tr>\n",
       "      <th>3</th>\n",
       "      <td>CMP_Q31QCU</td>\n",
       "      <td>PROD_A1Q6ZB</td>\n",
       "      <td>29957.54</td>\n",
       "      <td>2573</td>\n",
       "      <td>781</td>\n",
       "      <td>95740.12</td>\n",
       "      <td>3.32</td>\n",
       "      <td>CUST_6TBY6K</td>\n",
       "      <td>Premium</td>\n",
       "      <td>32</td>\n",
       "      <td>FLASH_1TOVXT</td>\n",
       "      <td>36</td>\n",
       "      <td>159</td>\n",
       "      <td>BNDL_AI09BC</td>\n",
       "      <td>334.16</td>\n",
       "      <td>1</td>\n",
       "      <td>Durable</td>\n",
       "    </tr>\n",
       "    <tr>\n",
       "      <th>4</th>\n",
       "      <td>CMP_AY0UTJ</td>\n",
       "      <td>PROD_F57N66</td>\n",
       "      <td>36277.19</td>\n",
       "      <td>818</td>\n",
       "      <td>79</td>\n",
       "      <td>81990.43</td>\n",
       "      <td>3.53</td>\n",
       "      <td>CUST_XASI45</td>\n",
       "      <td>Standard</td>\n",
       "      <td>29</td>\n",
       "      <td>FLASH_AOBHXL</td>\n",
       "      <td>20</td>\n",
       "      <td>52</td>\n",
       "      <td>BNDL_R03ITT</td>\n",
       "      <td>371.67</td>\n",
       "      <td>2</td>\n",
       "      <td>Affordable</td>\n",
       "    </tr>\n",
       "  </tbody>\n",
       "</table>\n",
       "</div>"
      ],
      "text/plain": [
       "  Campaign_ID   Product_ID    Budget  Clicks  Conversions  Revenue_Generated  \\\n",
       "0  CMP_RLSDVN  PROD_HBJFA3  41770.45    4946           73           15520.09   \n",
       "1  CMP_JHHUE9  PROD_OE8YNJ  29900.93     570          510           30866.17   \n",
       "2  CMP_6SBOWN  PROD_4V8A08  22367.45    3546          265           32585.62   \n",
       "3  CMP_Q31QCU  PROD_A1Q6ZB  29957.54    2573          781           95740.12   \n",
       "4  CMP_AY0UTJ  PROD_F57N66  36277.19     818           79           81990.43   \n",
       "\n",
       "    ROI  Customer_ID Subscription_Tier  Subscription_Length Flash_Sale_ID  \\\n",
       "0  1.94  CUST_1K7G39           Premium                    4  FLASH_1VFK5K   \n",
       "1  0.76  CUST_0DWS6F           Premium                    4  FLASH_1M6COK   \n",
       "2  1.41  CUST_BR2GST             Basic                    9  FLASH_J4PEON   \n",
       "3  3.32  CUST_6TBY6K           Premium                   32  FLASH_1TOVXT   \n",
       "4  3.53  CUST_XASI45          Standard                   29  FLASH_AOBHXL   \n",
       "\n",
       "   Discount_Level  Units_Sold    Bundle_ID  Bundle_Price  \\\n",
       "0              43          34  BNDL_29U6W5        433.80   \n",
       "1              28          97  BNDL_ULV60J        289.29   \n",
       "2              51         160  BNDL_0HY0EF        462.87   \n",
       "3              36         159  BNDL_AI09BC        334.16   \n",
       "4              20          52  BNDL_R03ITT        371.67   \n",
       "\n",
       "   Customer_Satisfaction_Post_Refund Common_Keywords  \n",
       "0                                  4      Affordable  \n",
       "1                                  2      Innovative  \n",
       "2                                  4      Affordable  \n",
       "3                                  1         Durable  \n",
       "4                                  2      Affordable  "
      ]
     },
     "execution_count": 5,
     "metadata": {},
     "output_type": "execute_result"
    }
   ],
   "source": [
    "df.head()"
   ]
  },
  {
   "cell_type": "code",
   "execution_count": 6,
   "id": "94e791c9-d6ac-44d7-b597-e392959535db",
   "metadata": {},
   "outputs": [
    {
     "data": {
      "text/html": [
       "<div>\n",
       "<style scoped>\n",
       "    .dataframe tbody tr th:only-of-type {\n",
       "        vertical-align: middle;\n",
       "    }\n",
       "\n",
       "    .dataframe tbody tr th {\n",
       "        vertical-align: top;\n",
       "    }\n",
       "\n",
       "    .dataframe thead th {\n",
       "        text-align: right;\n",
       "    }\n",
       "</style>\n",
       "<table border=\"1\" class=\"dataframe\">\n",
       "  <thead>\n",
       "    <tr style=\"text-align: right;\">\n",
       "      <th></th>\n",
       "      <th>Campaign_ID</th>\n",
       "      <th>Product_ID</th>\n",
       "      <th>Budget</th>\n",
       "      <th>Clicks</th>\n",
       "      <th>Conversions</th>\n",
       "      <th>Revenue_Generated</th>\n",
       "      <th>ROI</th>\n",
       "      <th>Customer_ID</th>\n",
       "      <th>Subscription_Tier</th>\n",
       "      <th>Subscription_Length</th>\n",
       "      <th>Flash_Sale_ID</th>\n",
       "      <th>Discount_Level</th>\n",
       "      <th>Units_Sold</th>\n",
       "      <th>Bundle_ID</th>\n",
       "      <th>Bundle_Price</th>\n",
       "      <th>Customer_Satisfaction_Post_Refund</th>\n",
       "      <th>Common_Keywords</th>\n",
       "    </tr>\n",
       "  </thead>\n",
       "  <tbody>\n",
       "    <tr>\n",
       "      <th>9995</th>\n",
       "      <td>CMP_U1BQY9</td>\n",
       "      <td>PROD_F204EM</td>\n",
       "      <td>49183.07</td>\n",
       "      <td>25</td>\n",
       "      <td>720</td>\n",
       "      <td>95399.69</td>\n",
       "      <td>4.61</td>\n",
       "      <td>CUST_K3F0GA</td>\n",
       "      <td>Premium</td>\n",
       "      <td>18</td>\n",
       "      <td>FLASH_WOTOXI</td>\n",
       "      <td>25</td>\n",
       "      <td>95</td>\n",
       "      <td>BNDL_6DN251</td>\n",
       "      <td>196.59</td>\n",
       "      <td>3</td>\n",
       "      <td>Affordable</td>\n",
       "    </tr>\n",
       "    <tr>\n",
       "      <th>9996</th>\n",
       "      <td>CMP_ZQDI7T</td>\n",
       "      <td>PROD_5313XR</td>\n",
       "      <td>38519.59</td>\n",
       "      <td>3503</td>\n",
       "      <td>799</td>\n",
       "      <td>38999.04</td>\n",
       "      <td>3.31</td>\n",
       "      <td>CUST_SY9H51</td>\n",
       "      <td>Standard</td>\n",
       "      <td>18</td>\n",
       "      <td>FLASH_3HIKX0</td>\n",
       "      <td>10</td>\n",
       "      <td>5</td>\n",
       "      <td>BNDL_24U1RG</td>\n",
       "      <td>461.12</td>\n",
       "      <td>2</td>\n",
       "      <td>Durable</td>\n",
       "    </tr>\n",
       "    <tr>\n",
       "      <th>9997</th>\n",
       "      <td>CMP_SYFTKH</td>\n",
       "      <td>PROD_44T74P</td>\n",
       "      <td>21532.92</td>\n",
       "      <td>1140</td>\n",
       "      <td>428</td>\n",
       "      <td>39646.56</td>\n",
       "      <td>5.00</td>\n",
       "      <td>CUST_C6LMF4</td>\n",
       "      <td>Standard</td>\n",
       "      <td>19</td>\n",
       "      <td>FLASH_W3KMY9</td>\n",
       "      <td>37</td>\n",
       "      <td>191</td>\n",
       "      <td>BNDL_MIA2QO</td>\n",
       "      <td>248.20</td>\n",
       "      <td>3</td>\n",
       "      <td>Stylish</td>\n",
       "    </tr>\n",
       "    <tr>\n",
       "      <th>9998</th>\n",
       "      <td>CMP_FTAW8H</td>\n",
       "      <td>PROD_CPN4QT</td>\n",
       "      <td>35546.54</td>\n",
       "      <td>1078</td>\n",
       "      <td>409</td>\n",
       "      <td>6785.63</td>\n",
       "      <td>4.08</td>\n",
       "      <td>CUST_URFVAQ</td>\n",
       "      <td>Basic</td>\n",
       "      <td>31</td>\n",
       "      <td>FLASH_L4UDXZ</td>\n",
       "      <td>59</td>\n",
       "      <td>73</td>\n",
       "      <td>BNDL_PHIE38</td>\n",
       "      <td>217.78</td>\n",
       "      <td>4</td>\n",
       "      <td>Affordable</td>\n",
       "    </tr>\n",
       "    <tr>\n",
       "      <th>9999</th>\n",
       "      <td>CMP_3L1U09</td>\n",
       "      <td>PROD_W5MSRO</td>\n",
       "      <td>7179.69</td>\n",
       "      <td>1682</td>\n",
       "      <td>935</td>\n",
       "      <td>96707.63</td>\n",
       "      <td>1.74</td>\n",
       "      <td>CUST_25UP1Z</td>\n",
       "      <td>Premium</td>\n",
       "      <td>3</td>\n",
       "      <td>FLASH_ZGYPFO</td>\n",
       "      <td>68</td>\n",
       "      <td>4</td>\n",
       "      <td>BNDL_H5CC7E</td>\n",
       "      <td>392.44</td>\n",
       "      <td>3</td>\n",
       "      <td>Innovative</td>\n",
       "    </tr>\n",
       "  </tbody>\n",
       "</table>\n",
       "</div>"
      ],
      "text/plain": [
       "     Campaign_ID   Product_ID    Budget  Clicks  Conversions  \\\n",
       "9995  CMP_U1BQY9  PROD_F204EM  49183.07      25          720   \n",
       "9996  CMP_ZQDI7T  PROD_5313XR  38519.59    3503          799   \n",
       "9997  CMP_SYFTKH  PROD_44T74P  21532.92    1140          428   \n",
       "9998  CMP_FTAW8H  PROD_CPN4QT  35546.54    1078          409   \n",
       "9999  CMP_3L1U09  PROD_W5MSRO   7179.69    1682          935   \n",
       "\n",
       "      Revenue_Generated   ROI  Customer_ID Subscription_Tier  \\\n",
       "9995           95399.69  4.61  CUST_K3F0GA           Premium   \n",
       "9996           38999.04  3.31  CUST_SY9H51          Standard   \n",
       "9997           39646.56  5.00  CUST_C6LMF4          Standard   \n",
       "9998            6785.63  4.08  CUST_URFVAQ             Basic   \n",
       "9999           96707.63  1.74  CUST_25UP1Z           Premium   \n",
       "\n",
       "      Subscription_Length Flash_Sale_ID  Discount_Level  Units_Sold  \\\n",
       "9995                   18  FLASH_WOTOXI              25          95   \n",
       "9996                   18  FLASH_3HIKX0              10           5   \n",
       "9997                   19  FLASH_W3KMY9              37         191   \n",
       "9998                   31  FLASH_L4UDXZ              59          73   \n",
       "9999                    3  FLASH_ZGYPFO              68           4   \n",
       "\n",
       "        Bundle_ID  Bundle_Price  Customer_Satisfaction_Post_Refund  \\\n",
       "9995  BNDL_6DN251        196.59                                  3   \n",
       "9996  BNDL_24U1RG        461.12                                  2   \n",
       "9997  BNDL_MIA2QO        248.20                                  3   \n",
       "9998  BNDL_PHIE38        217.78                                  4   \n",
       "9999  BNDL_H5CC7E        392.44                                  3   \n",
       "\n",
       "     Common_Keywords  \n",
       "9995      Affordable  \n",
       "9996         Durable  \n",
       "9997         Stylish  \n",
       "9998      Affordable  \n",
       "9999      Innovative  "
      ]
     },
     "execution_count": 6,
     "metadata": {},
     "output_type": "execute_result"
    }
   ],
   "source": [
    "df.tail()"
   ]
  },
  {
   "cell_type": "code",
   "execution_count": 7,
   "id": "8882592e-55c7-44c2-a7ff-26ae3ad7aae0",
   "metadata": {},
   "outputs": [
    {
     "data": {
      "text/plain": [
       "(10000, 17)"
      ]
     },
     "execution_count": 7,
     "metadata": {},
     "output_type": "execute_result"
    }
   ],
   "source": [
    "df.shape"
   ]
  },
  {
   "cell_type": "code",
   "execution_count": 8,
   "id": "8d008347-64ed-4622-89f7-585558621d97",
   "metadata": {},
   "outputs": [
    {
     "data": {
      "text/plain": [
       "<bound method DataFrame.info of      Campaign_ID   Product_ID    Budget  Clicks  Conversions  \\\n",
       "0     CMP_RLSDVN  PROD_HBJFA3  41770.45    4946           73   \n",
       "1     CMP_JHHUE9  PROD_OE8YNJ  29900.93     570          510   \n",
       "2     CMP_6SBOWN  PROD_4V8A08  22367.45    3546          265   \n",
       "3     CMP_Q31QCU  PROD_A1Q6ZB  29957.54    2573          781   \n",
       "4     CMP_AY0UTJ  PROD_F57N66  36277.19     818           79   \n",
       "...          ...          ...       ...     ...          ...   \n",
       "9995  CMP_U1BQY9  PROD_F204EM  49183.07      25          720   \n",
       "9996  CMP_ZQDI7T  PROD_5313XR  38519.59    3503          799   \n",
       "9997  CMP_SYFTKH  PROD_44T74P  21532.92    1140          428   \n",
       "9998  CMP_FTAW8H  PROD_CPN4QT  35546.54    1078          409   \n",
       "9999  CMP_3L1U09  PROD_W5MSRO   7179.69    1682          935   \n",
       "\n",
       "      Revenue_Generated   ROI  Customer_ID Subscription_Tier  \\\n",
       "0              15520.09  1.94  CUST_1K7G39           Premium   \n",
       "1              30866.17  0.76  CUST_0DWS6F           Premium   \n",
       "2              32585.62  1.41  CUST_BR2GST             Basic   \n",
       "3              95740.12  3.32  CUST_6TBY6K           Premium   \n",
       "4              81990.43  3.53  CUST_XASI45          Standard   \n",
       "...                 ...   ...          ...               ...   \n",
       "9995           95399.69  4.61  CUST_K3F0GA           Premium   \n",
       "9996           38999.04  3.31  CUST_SY9H51          Standard   \n",
       "9997           39646.56  5.00  CUST_C6LMF4          Standard   \n",
       "9998            6785.63  4.08  CUST_URFVAQ             Basic   \n",
       "9999           96707.63  1.74  CUST_25UP1Z           Premium   \n",
       "\n",
       "      Subscription_Length Flash_Sale_ID  Discount_Level  Units_Sold  \\\n",
       "0                       4  FLASH_1VFK5K              43          34   \n",
       "1                       4  FLASH_1M6COK              28          97   \n",
       "2                       9  FLASH_J4PEON              51         160   \n",
       "3                      32  FLASH_1TOVXT              36         159   \n",
       "4                      29  FLASH_AOBHXL              20          52   \n",
       "...                   ...           ...             ...         ...   \n",
       "9995                   18  FLASH_WOTOXI              25          95   \n",
       "9996                   18  FLASH_3HIKX0              10           5   \n",
       "9997                   19  FLASH_W3KMY9              37         191   \n",
       "9998                   31  FLASH_L4UDXZ              59          73   \n",
       "9999                    3  FLASH_ZGYPFO              68           4   \n",
       "\n",
       "        Bundle_ID  Bundle_Price  Customer_Satisfaction_Post_Refund  \\\n",
       "0     BNDL_29U6W5        433.80                                  4   \n",
       "1     BNDL_ULV60J        289.29                                  2   \n",
       "2     BNDL_0HY0EF        462.87                                  4   \n",
       "3     BNDL_AI09BC        334.16                                  1   \n",
       "4     BNDL_R03ITT        371.67                                  2   \n",
       "...           ...           ...                                ...   \n",
       "9995  BNDL_6DN251        196.59                                  3   \n",
       "9996  BNDL_24U1RG        461.12                                  2   \n",
       "9997  BNDL_MIA2QO        248.20                                  3   \n",
       "9998  BNDL_PHIE38        217.78                                  4   \n",
       "9999  BNDL_H5CC7E        392.44                                  3   \n",
       "\n",
       "     Common_Keywords  \n",
       "0         Affordable  \n",
       "1         Innovative  \n",
       "2         Affordable  \n",
       "3            Durable  \n",
       "4         Affordable  \n",
       "...              ...  \n",
       "9995      Affordable  \n",
       "9996         Durable  \n",
       "9997         Stylish  \n",
       "9998      Affordable  \n",
       "9999      Innovative  \n",
       "\n",
       "[10000 rows x 17 columns]>"
      ]
     },
     "execution_count": 8,
     "metadata": {},
     "output_type": "execute_result"
    }
   ],
   "source": [
    "df.info"
   ]
  },
  {
   "cell_type": "code",
   "execution_count": 9,
   "id": "33b7423f-5977-4b93-aa90-b8a98072c68e",
   "metadata": {},
   "outputs": [
    {
     "data": {
      "text/plain": [
       "Campaign_ID                          0\n",
       "Product_ID                           0\n",
       "Budget                               0\n",
       "Clicks                               0\n",
       "Conversions                          0\n",
       "Revenue_Generated                    0\n",
       "ROI                                  0\n",
       "Customer_ID                          0\n",
       "Subscription_Tier                    0\n",
       "Subscription_Length                  0\n",
       "Flash_Sale_ID                        0\n",
       "Discount_Level                       0\n",
       "Units_Sold                           0\n",
       "Bundle_ID                            0\n",
       "Bundle_Price                         0\n",
       "Customer_Satisfaction_Post_Refund    0\n",
       "Common_Keywords                      0\n",
       "dtype: int64"
      ]
     },
     "execution_count": 9,
     "metadata": {},
     "output_type": "execute_result"
    }
   ],
   "source": [
    "df.isna().sum()"
   ]
  },
  {
   "cell_type": "code",
   "execution_count": 10,
   "id": "7cb2162b-d16c-4f05-9814-d217e4ccfd19",
   "metadata": {},
   "outputs": [
    {
     "data": {
      "text/plain": [
       "0"
      ]
     },
     "execution_count": 10,
     "metadata": {},
     "output_type": "execute_result"
    }
   ],
   "source": [
    "df.duplicated().sum()"
   ]
  },
  {
   "cell_type": "code",
   "execution_count": 11,
   "id": "3df6e4ec-4e7e-4e52-918e-9b5a22413125",
   "metadata": {},
   "outputs": [
    {
     "name": "stdout",
     "output_type": "stream",
     "text": [
      "<bound method IndexOpsMixin.value_counts of 0       CMP_RLSDVN\n",
      "1       CMP_JHHUE9\n",
      "2       CMP_6SBOWN\n",
      "3       CMP_Q31QCU\n",
      "4       CMP_AY0UTJ\n",
      "           ...    \n",
      "9995    CMP_U1BQY9\n",
      "9996    CMP_ZQDI7T\n",
      "9997    CMP_SYFTKH\n",
      "9998    CMP_FTAW8H\n",
      "9999    CMP_3L1U09\n",
      "Name: Campaign_ID, Length: 10000, dtype: object>\n",
      "******************************\n",
      "<bound method IndexOpsMixin.value_counts of 0       PROD_HBJFA3\n",
      "1       PROD_OE8YNJ\n",
      "2       PROD_4V8A08\n",
      "3       PROD_A1Q6ZB\n",
      "4       PROD_F57N66\n",
      "           ...     \n",
      "9995    PROD_F204EM\n",
      "9996    PROD_5313XR\n",
      "9997    PROD_44T74P\n",
      "9998    PROD_CPN4QT\n",
      "9999    PROD_W5MSRO\n",
      "Name: Product_ID, Length: 10000, dtype: object>\n",
      "******************************\n",
      "<bound method IndexOpsMixin.value_counts of 0       CUST_1K7G39\n",
      "1       CUST_0DWS6F\n",
      "2       CUST_BR2GST\n",
      "3       CUST_6TBY6K\n",
      "4       CUST_XASI45\n",
      "           ...     \n",
      "9995    CUST_K3F0GA\n",
      "9996    CUST_SY9H51\n",
      "9997    CUST_C6LMF4\n",
      "9998    CUST_URFVAQ\n",
      "9999    CUST_25UP1Z\n",
      "Name: Customer_ID, Length: 10000, dtype: object>\n",
      "******************************\n",
      "<bound method IndexOpsMixin.value_counts of 0        Premium\n",
      "1        Premium\n",
      "2          Basic\n",
      "3        Premium\n",
      "4       Standard\n",
      "          ...   \n",
      "9995     Premium\n",
      "9996    Standard\n",
      "9997    Standard\n",
      "9998       Basic\n",
      "9999     Premium\n",
      "Name: Subscription_Tier, Length: 10000, dtype: object>\n",
      "******************************\n",
      "<bound method IndexOpsMixin.value_counts of 0       FLASH_1VFK5K\n",
      "1       FLASH_1M6COK\n",
      "2       FLASH_J4PEON\n",
      "3       FLASH_1TOVXT\n",
      "4       FLASH_AOBHXL\n",
      "            ...     \n",
      "9995    FLASH_WOTOXI\n",
      "9996    FLASH_3HIKX0\n",
      "9997    FLASH_W3KMY9\n",
      "9998    FLASH_L4UDXZ\n",
      "9999    FLASH_ZGYPFO\n",
      "Name: Flash_Sale_ID, Length: 10000, dtype: object>\n",
      "******************************\n",
      "<bound method IndexOpsMixin.value_counts of 0       BNDL_29U6W5\n",
      "1       BNDL_ULV60J\n",
      "2       BNDL_0HY0EF\n",
      "3       BNDL_AI09BC\n",
      "4       BNDL_R03ITT\n",
      "           ...     \n",
      "9995    BNDL_6DN251\n",
      "9996    BNDL_24U1RG\n",
      "9997    BNDL_MIA2QO\n",
      "9998    BNDL_PHIE38\n",
      "9999    BNDL_H5CC7E\n",
      "Name: Bundle_ID, Length: 10000, dtype: object>\n",
      "******************************\n",
      "<bound method IndexOpsMixin.value_counts of 0       Affordable\n",
      "1       Innovative\n",
      "2       Affordable\n",
      "3          Durable\n",
      "4       Affordable\n",
      "           ...    \n",
      "9995    Affordable\n",
      "9996       Durable\n",
      "9997       Stylish\n",
      "9998    Affordable\n",
      "9999    Innovative\n",
      "Name: Common_Keywords, Length: 10000, dtype: object>\n",
      "******************************\n"
     ]
    }
   ],
   "source": [
    "# garbage value \n",
    "for i in df.select_dtypes(include=\"object\").columns:\n",
    "    print(df[i].value_counts)\n",
    "    print(\"***\"*10)"
   ]
  },
  {
   "cell_type": "code",
   "execution_count": 12,
   "id": "80ace891-4566-4950-893c-956cec977f3f",
   "metadata": {},
   "outputs": [
    {
     "data": {
      "text/html": [
       "<div>\n",
       "<style scoped>\n",
       "    .dataframe tbody tr th:only-of-type {\n",
       "        vertical-align: middle;\n",
       "    }\n",
       "\n",
       "    .dataframe tbody tr th {\n",
       "        vertical-align: top;\n",
       "    }\n",
       "\n",
       "    .dataframe thead th {\n",
       "        text-align: right;\n",
       "    }\n",
       "</style>\n",
       "<table border=\"1\" class=\"dataframe\">\n",
       "  <thead>\n",
       "    <tr style=\"text-align: right;\">\n",
       "      <th></th>\n",
       "      <th>Budget</th>\n",
       "      <th>Clicks</th>\n",
       "      <th>Conversions</th>\n",
       "      <th>Revenue_Generated</th>\n",
       "      <th>ROI</th>\n",
       "      <th>Subscription_Length</th>\n",
       "      <th>Discount_Level</th>\n",
       "      <th>Units_Sold</th>\n",
       "      <th>Bundle_Price</th>\n",
       "      <th>Customer_Satisfaction_Post_Refund</th>\n",
       "    </tr>\n",
       "  </thead>\n",
       "  <tbody>\n",
       "    <tr>\n",
       "      <th>count</th>\n",
       "      <td>10000.000000</td>\n",
       "      <td>10000.000000</td>\n",
       "      <td>10000.000000</td>\n",
       "      <td>10000.000000</td>\n",
       "      <td>10000.000000</td>\n",
       "      <td>10000.000000</td>\n",
       "      <td>10000.000000</td>\n",
       "      <td>10000.000000</td>\n",
       "      <td>10000.000000</td>\n",
       "      <td>10000.000000</td>\n",
       "    </tr>\n",
       "    <tr>\n",
       "      <th>mean</th>\n",
       "      <td>25263.607524</td>\n",
       "      <td>2481.903600</td>\n",
       "      <td>498.978700</td>\n",
       "      <td>50038.627579</td>\n",
       "      <td>2.756365</td>\n",
       "      <td>18.016500</td>\n",
       "      <td>39.421000</td>\n",
       "      <td>100.689600</td>\n",
       "      <td>275.198346</td>\n",
       "      <td>2.500900</td>\n",
       "    </tr>\n",
       "    <tr>\n",
       "      <th>std</th>\n",
       "      <td>14350.085927</td>\n",
       "      <td>1435.973623</td>\n",
       "      <td>289.479495</td>\n",
       "      <td>28545.702337</td>\n",
       "      <td>1.296901</td>\n",
       "      <td>10.149666</td>\n",
       "      <td>17.212925</td>\n",
       "      <td>57.074015</td>\n",
       "      <td>129.218710</td>\n",
       "      <td>1.113249</td>\n",
       "    </tr>\n",
       "    <tr>\n",
       "      <th>min</th>\n",
       "      <td>500.440000</td>\n",
       "      <td>10.000000</td>\n",
       "      <td>1.000000</td>\n",
       "      <td>1002.080000</td>\n",
       "      <td>0.500000</td>\n",
       "      <td>1.000000</td>\n",
       "      <td>10.000000</td>\n",
       "      <td>1.000000</td>\n",
       "      <td>50.010000</td>\n",
       "      <td>1.000000</td>\n",
       "    </tr>\n",
       "    <tr>\n",
       "      <th>25%</th>\n",
       "      <td>12789.190000</td>\n",
       "      <td>1225.750000</td>\n",
       "      <td>247.000000</td>\n",
       "      <td>25264.255000</td>\n",
       "      <td>1.630000</td>\n",
       "      <td>9.000000</td>\n",
       "      <td>24.000000</td>\n",
       "      <td>52.000000</td>\n",
       "      <td>165.717500</td>\n",
       "      <td>2.000000</td>\n",
       "    </tr>\n",
       "    <tr>\n",
       "      <th>50%</th>\n",
       "      <td>25030.170000</td>\n",
       "      <td>2451.000000</td>\n",
       "      <td>499.000000</td>\n",
       "      <td>49513.815000</td>\n",
       "      <td>2.750000</td>\n",
       "      <td>18.000000</td>\n",
       "      <td>39.000000</td>\n",
       "      <td>101.000000</td>\n",
       "      <td>272.555000</td>\n",
       "      <td>2.000000</td>\n",
       "    </tr>\n",
       "    <tr>\n",
       "      <th>75%</th>\n",
       "      <td>37921.725000</td>\n",
       "      <td>3723.000000</td>\n",
       "      <td>751.000000</td>\n",
       "      <td>74507.157500</td>\n",
       "      <td>3.890000</td>\n",
       "      <td>27.000000</td>\n",
       "      <td>54.000000</td>\n",
       "      <td>150.000000</td>\n",
       "      <td>387.322500</td>\n",
       "      <td>3.000000</td>\n",
       "    </tr>\n",
       "    <tr>\n",
       "      <th>max</th>\n",
       "      <td>49999.630000</td>\n",
       "      <td>4999.000000</td>\n",
       "      <td>999.000000</td>\n",
       "      <td>99999.470000</td>\n",
       "      <td>5.000000</td>\n",
       "      <td>35.000000</td>\n",
       "      <td>69.000000</td>\n",
       "      <td>199.000000</td>\n",
       "      <td>499.970000</td>\n",
       "      <td>4.000000</td>\n",
       "    </tr>\n",
       "  </tbody>\n",
       "</table>\n",
       "</div>"
      ],
      "text/plain": [
       "             Budget        Clicks   Conversions  Revenue_Generated  \\\n",
       "count  10000.000000  10000.000000  10000.000000       10000.000000   \n",
       "mean   25263.607524   2481.903600    498.978700       50038.627579   \n",
       "std    14350.085927   1435.973623    289.479495       28545.702337   \n",
       "min      500.440000     10.000000      1.000000        1002.080000   \n",
       "25%    12789.190000   1225.750000    247.000000       25264.255000   \n",
       "50%    25030.170000   2451.000000    499.000000       49513.815000   \n",
       "75%    37921.725000   3723.000000    751.000000       74507.157500   \n",
       "max    49999.630000   4999.000000    999.000000       99999.470000   \n",
       "\n",
       "                ROI  Subscription_Length  Discount_Level    Units_Sold  \\\n",
       "count  10000.000000         10000.000000    10000.000000  10000.000000   \n",
       "mean       2.756365            18.016500       39.421000    100.689600   \n",
       "std        1.296901            10.149666       17.212925     57.074015   \n",
       "min        0.500000             1.000000       10.000000      1.000000   \n",
       "25%        1.630000             9.000000       24.000000     52.000000   \n",
       "50%        2.750000            18.000000       39.000000    101.000000   \n",
       "75%        3.890000            27.000000       54.000000    150.000000   \n",
       "max        5.000000            35.000000       69.000000    199.000000   \n",
       "\n",
       "       Bundle_Price  Customer_Satisfaction_Post_Refund  \n",
       "count  10000.000000                       10000.000000  \n",
       "mean     275.198346                           2.500900  \n",
       "std      129.218710                           1.113249  \n",
       "min       50.010000                           1.000000  \n",
       "25%      165.717500                           2.000000  \n",
       "50%      272.555000                           2.000000  \n",
       "75%      387.322500                           3.000000  \n",
       "max      499.970000                           4.000000  "
      ]
     },
     "execution_count": 12,
     "metadata": {},
     "output_type": "execute_result"
    }
   ],
   "source": [
    "df.describe()"
   ]
  },
  {
   "cell_type": "code",
   "execution_count": 13,
   "id": "ac3682b7-409c-436b-ae7c-c17d6e16088b",
   "metadata": {},
   "outputs": [
    {
     "data": {
      "image/png": "[encoded data removed]",
      "text/plain": [
       "<Figure size 640x480 with 1 Axes>"
      ]
     },
     "metadata": {},
     "output_type": "display_data"
    },
    {
     "data": {
      "image/png": "[encoded data removed]",
      "text/plain": [
       "<Figure size 640x480 with 1 Axes>"
      ]
     },
     "metadata": {},
     "output_type": "display_data"
    },
    {
     "data": {
      "image/png": "[encoded data removed]",
      "text/plain": [
       "<Figure size 640x480 with 1 Axes>"
      ]
     },
     "metadata": {},
     "output_type": "display_data"
    },
    {
     "data": {
      "image/png": "[encoded data removed]",
      "text/plain": [
       "<Figure size 640x480 with 1 Axes>"
      ]
     },
     "metadata": {},
     "output_type": "display_data"
    },
    {
     "data": {
      "image/png": "[encoded data removed]",
      "text/plain": [
       "<Figure size 640x480 with 1 Axes>"
      ]
     },
     "metadata": {},
     "output_type": "display_data"
    },
    {
     "data": {
      "image/png": "[encoded data removed]",
      "text/plain": [
       "<Figure size 640x480 with 1 Axes>"
      ]
     },
     "metadata": {},
     "output_type": "display_data"
    },
    {
     "data": {
      "image/png": "[encoded data removed]",
      "text/plain": [
       "<Figure size 640x480 with 1 Axes>"
      ]
     },
     "metadata": {},
     "output_type": "display_data"
    },
    {
     "data": {
      "image/png": "[encoded data removed]",
      "text/plain": [
       "<Figure size 640x480 with 1 Axes>"
      ]
     },
     "metadata": {},
     "output_type": "display_data"
    },
    {
     "data": {
      "image/png": "[encoded data removed]",
      "text/plain": [
       "<Figure size 640x480 with 1 Axes>"
      ]
     },
     "metadata": {},
     "output_type": "display_data"
    },
    {
     "data": {
      "image/png": "[encoded data removed]",
      "text/plain": [
       "<Figure size 640x480 with 1 Axes>"
      ]
     },
     "metadata": {},
     "output_type": "display_data"
    }
   ],
   "source": [
    "# histogram \n",
    "for i in df.select_dtypes(include=\"number\").columns:\n",
    "    sns.histplot(data=df , x=i)\n",
    "    plt.show()"
   ]
  },
  {
   "cell_type": "code",
   "execution_count": 14,
   "id": "aec1fab5-08d6-4c2e-9890-0f8ab6b70057",
   "metadata": {},
   "outputs": [
    {
     "data": {
      "image/png": "[encoded data removed]",
      "text/plain": [
       "<Figure size 640x480 with 1 Axes>"
      ]
     },
     "metadata": {},
     "output_type": "display_data"
    },
    {
     "data": {
      "image/png": "[encoded data removed]",
      "text/plain": [
       "<Figure size 640x480 with 1 Axes>"
      ]
     },
     "metadata": {},
     "output_type": "display_data"
    },
    {
     "data": {
      "image/png": "[encoded data removed]",
      "text/plain": [
       "<Figure size 640x480 with 1 Axes>"
      ]
     },
     "metadata": {},
     "output_type": "display_data"
    },
    {
     "data": {
      "image/png": "[encoded data removed]",
      "text/plain": [
       "<Figure size 640x480 with 1 Axes>"
      ]
     },
     "metadata": {},
     "output_type": "display_data"
    },
    {
     "data": {
      "image/png": "[encoded data removed]",
      "text/plain": [
       "<Figure size 640x480 with 1 Axes>"
      ]
     },
     "metadata": {},
     "output_type": "display_data"
    },
    {
     "data": {
      "image/png": "[encoded data removed]",
      "text/plain": [
       "<Figure size 640x480 with 1 Axes>"
      ]
     },
     "metadata": {},
     "output_type": "display_data"
    },
    {
     "data": {
      "image/png": "[encoded data removed]",
      "text/plain": [
       "<Figure size 640x480 with 1 Axes>"
      ]
     },
     "metadata": {},
     "output_type": "display_data"
    },
    {
     "data": {
      "image/png": "[encoded data removed]",
      "text/plain": [
       "<Figure size 640x480 with 1 Axes>"
      ]
     },
     "metadata": {},
     "output_type": "display_data"
    },
    {
     "data": {
      "image/png": "[encoded data removed]",
      "text/plain": [
       "<Figure size 640x480 with 1 Axes>"
      ]
     },
     "metadata": {},
     "output_type": "display_data"
    },
    {
     "data": {
      "image/png": "[encoded data removed]",
      "text/plain": [
       "<Figure size 640x480 with 1 Axes>"
      ]
     },
     "metadata": {},
     "output_type": "display_data"
    }
   ],
   "source": [
    "# boxplot\n",
    "for i in df.select_dtypes(include=\"number\").columns:\n",
    "    sns.boxplot(data=df , x=i)\n",
    "    plt.show()"
   ]
  },
  {
   "cell_type": "code",
   "execution_count": null,
   "id": "ec8b3d48-b8ef-4703-9e29-9cdb92457a87",
   "metadata": {},
   "outputs": [],
   "source": [
    "# scatter plot\n",
    "for i in [ 'Campaign_ID', 'Product_ID', 'Budget','Clicks', 'Conversions','Revenue_Generated','ROI','Customer_ID', 'Subscription_Tier',\n",
    "           'Subscription_Length', 'Flash_Sale_ID', 'Discount_Level', 'Units_Sold ',\n",
    "           'Bundle_ID',  'Bundle_Price', 'Customer_Satisfaction_Post_Refund']:\n",
    "    sns.scatterplot(data=df,x=i,y='Common_Keywords')\n",
    "    plt.show()"
   ]
  },
  {
   "cell_type": "code",
   "execution_count": null,
   "id": "96a55abf-7eec-4035-a859-939576fc9080",
   "metadata": {},
   "outputs": [],
   "source": [
    "s=df.select_dtypes(include=\"number\").corr()"
   ]
  },
  {
   "cell_type": "code",
   "execution_count": null,
   "id": "ffb5a1b3-792e-4e14-86ca-52fb2bd28d88",
   "metadata": {},
   "outputs": [],
   "source": [
    "plt.figure(figsize=(10,10))\n",
    "sns.heatmap(s,annot=True)"
   ]
  },
  {
   "cell_type": "markdown",
   "id": "dc255be9-a02c-4653-86c0-55157e365972",
   "metadata": {},
   "source": [
    "# encoding"
   ]
  },
  {
   "cell_type": "code",
   "execution_count": null,
   "id": "65a6ba2d-2501-47a7-bae7-c610c329a366",
   "metadata": {},
   "outputs": [],
   "source": [
    "import pandas as pd \n",
    "from sklearn.preprocessing import LabelEncoder , OneHotEncoder , StandardScaler\n",
    "from sklearn.model_selection import train_test_split\n",
    "from sklearn.linear_model import LinearRegression\n",
    "from sklearn.tree import DecisionTreeRegressor\n",
    "from sklearn.ensemble import RandomForestRegressor\n",
    "from sklearn.metrics import mean_absolute_error, mean_squared_error, r2_score\n",
    "from sklearn.linear_model import Lasso"
   ]
  },
  {
   "cell_type": "code",
   "execution_count": null,
   "id": "72632442-24a4-4a5f-9056-d50d86635fe2",
   "metadata": {},
   "outputs": [],
   "source": [
    "categorical_cols = df.select_dtypes(include=['object']).columns\n",
    "print(\"Categorical Columns:\", categorical_cols)"
   ]
  },
  {
   "cell_type": "code",
   "execution_count": null,
   "id": "57788d93-7c71-4009-b449-2232b8557b54",
   "metadata": {},
   "outputs": [],
   "source": [
    "label_encoder = LabelEncoder()\n",
    "df['Subscription_Tier_Encoded'] = label_encoder.fit_transform(df['Subscription_Tier'])"
   ]
  },
  {
   "cell_type": "code",
   "execution_count": null,
   "id": "35b88f80-bee5-43a8-a7a9-3de43354d7d7",
   "metadata": {},
   "outputs": [],
   "source": [
    "\n",
    "one_hot_encoder = OneHotEncoder(sparse_output=False, drop='first')\n",
    "common_keywords_encoded = one_hot_encoder.fit_transform(df[['Common_Keywords']])\n",
    "common_keywords_df = pd.DataFrame(common_keywords_encoded, columns=one_hot_encoder.get_feature_names_out(['Common_Keywords']))\n",
    "df = pd.concat([df, common_keywords_df], axis=1)"
   ]
  },
  {
   "cell_type": "code",
   "execution_count": null,
   "id": "c6036fcb-6f8b-418e-8031-0a5fe367983b",
   "metadata": {},
   "outputs": [],
   "source": [
    "df = pd.concat([df, common_keywords_df], axis=1)\n",
    "df.drop(columns=['Subscription_Tier', 'Common_Keywords'], inplace=True)"
   ]
  },
  {
   "cell_type": "code",
   "execution_count": null,
   "id": "aff23332-66d1-485d-8837-cbb7ec428c6e",
   "metadata": {},
   "outputs": [],
   "source": [
    "df.fillna(df.mean(numeric_only=True), inplace=True)"
   ]
  },
  {
   "cell_type": "code",
   "execution_count": null,
   "id": "1d4132bd-c565-4e90-8462-804dd26af658",
   "metadata": {},
   "outputs": [],
   "source": [
    "df.drop(columns=[\n",
    "    'Campaign_ID', 'Product_ID', 'Customer_ID', 'Subscription_Tier',\n",
    "    'Flash_Sale_ID', 'Bundle_ID', 'Common_Keywords'\n",
    "], inplace=True)"
   ]
  },
  {
   "cell_type": "code",
   "execution_count": null,
   "id": "360a81b2-cca1-450c-aa09-661b4119ee92",
   "metadata": {},
   "outputs": [],
   "source": [
    "columns_to_drop = ['Campaign_ID', 'Product_ID', 'Customer_ID', 'Flash_Sale_ID', 'Bundle_ID']\n",
    "df_processed = df.drop(columns=columns_to_drop)"
   ]
  },
  {
   "cell_type": "code",
   "execution_count": null,
   "id": "10db1d98-de6e-4c25-92b9-4edf4fa59250",
   "metadata": {},
   "outputs": [],
   "source": [
    "df"
   ]
  },
  {
   "cell_type": "markdown",
   "id": "5ac17b5d-a630-4cbf-a726-5feb129d2ec2",
   "metadata": {},
   "source": [
    "# spliting into training and testing data "
   ]
  },
  {
   "cell_type": "code",
   "execution_count": null,
   "id": "99441137-93d7-4c9d-b256-b404a0bafd52",
   "metadata": {},
   "outputs": [],
   "source": [
    "X = df_processed.drop(columns=['Revenue_Generated'])\n",
    "y = df_processed['Revenue_Generated']"
   ]
  },
  {
   "cell_type": "code",
   "execution_count": null,
   "id": "1c3a2fba-40b0-4616-be50-d357a61df547",
   "metadata": {},
   "outputs": [],
   "source": [
    "X_train, X_test, y_train, y_test = train_test_split(X, y, test_size=0.2, random_state=42)"
   ]
  },
  {
   "cell_type": "code",
   "execution_count": null,
   "id": "300de754-b717-4217-a5ca-23c8fbe62f08",
   "metadata": {},
   "outputs": [],
   "source": [
    "scaler = StandardScaler()\n",
    "X_train_scaled = scaler.fit_transform(X_train)\n",
    "X_test_scaled = scaler.transform(X_test)"
   ]
  },
  {
   "cell_type": "code",
   "execution_count": null,
   "id": "b7a9972e-23b4-4657-8166-fb3469832795",
   "metadata": {},
   "outputs": [],
   "source": [
    "print(\"Data Preprocessing Completed Successfully!\")\n",
    "print(\"Training Set Shape: {X_train.shape}, Test Set Shape: {X_test.shape}\")"
   ]
  },
  {
   "cell_type": "markdown",
   "id": "6553f64b-38fa-44ec-8c8f-0637f297cc0d",
   "metadata": {},
   "source": [
    "# Linear Regression "
   ]
  },
  {
   "cell_type": "code",
   "execution_count": null,
   "id": "0f06ff86-6c92-4d24-9cd6-8a191c10ca97",
   "metadata": {},
   "outputs": [],
   "source": [
    "lr_model = LinearRegression()\n",
    "lr_model.fit(X_train, y_train)"
   ]
  },
  {
   "cell_type": "code",
   "execution_count": null,
   "id": "913e35cb-da5b-4039-9a5b-01b0176f5123",
   "metadata": {},
   "outputs": [],
   "source": [
    "lr_preds = lr_model.predict(X_test)\n",
    "print(\"Linear Regression:\")\n",
    "print(\"MSE:\", mean_squared_error(y_test, lr_preds))\n",
    "print(\"R² Score:\", r2_score(y_test, lr_preds))"
   ]
  },
  {
   "cell_type": "code",
   "execution_count": null,
   "id": "1ae4a9cc-72d4-4fff-a6b9-73dc926f42d9",
   "metadata": {},
   "outputs": [],
   "source": [
    "y_pred = model.predict(X_test_scaled)"
   ]
  },
  {
   "cell_type": "markdown",
   "id": "a71d9124-40aa-4337-8d2a-55569c11d0d9",
   "metadata": {},
   "source": [
    "# Random Forest Regression "
   ]
  },
  {
   "cell_type": "code",
   "execution_count": null,
   "id": "c86f1814-546c-4cc4-8aa8-3e10dff1ad4a",
   "metadata": {},
   "outputs": [],
   "source": [
    "rf_model = RandomForestRegressor(n_estimators=100, random_state=42)\n",
    "rf_model.fit(X_train, y_train)"
   ]
  },
  {
   "cell_type": "code",
   "execution_count": null,
   "id": "eec8f8de-50f1-40e4-933e-b20d04965b6b",
   "metadata": {},
   "outputs": [],
   "source": [
    "rf_preds = rf_model.predict(X_test)\n",
    "print(\"Random Forest Regression:\")\n",
    "print(\"MSE:\", mean_squared_error(y_test, rf_preds))\n",
    "print(\"R² Score:\", r2_score(y_test, rf_preds))"
   ]
  },
  {
   "cell_type": "markdown",
   "id": "1ed839de-f251-414b-89ab-3840505f5b05",
   "metadata": {},
   "source": [
    "# Decision Tree Regression "
   ]
  },
  {
   "cell_type": "code",
   "execution_count": null,
   "id": "1b74715f-3993-476f-b4c3-097dd4567f56",
   "metadata": {},
   "outputs": [],
   "source": [
    "dt_model = DecisionTreeRegressor(random_state=42)\n",
    "dt_model.fit(X_train, y_train)"
   ]
  },
  {
   "cell_type": "code",
   "execution_count": null,
   "id": "c0427e3f-8d6c-4f54-a56b-13236d45922b",
   "metadata": {},
   "outputs": [],
   "source": [
    "dt_preds = dt_model.predict(X_test)\n",
    "print(\"\\nDecision Tree Regression:\")\n",
    "print(\"MSE:\", mean_squared_error(y_test, dt_preds))\n",
    "print(\"R² Score:\", r2_score(y_test, dt_preds))"
   ]
  },
  {
   "cell_type": "markdown",
   "id": "f4bf97e2-322e-4b70-b044-41868f76ca75",
   "metadata": {},
   "source": [
    "# Lasson Regression "
   ]
  },
  {
   "cell_type": "code",
   "execution_count": null,
   "id": "df4568a4-10e4-4ff8-bcbb-3ec130cd1103",
   "metadata": {},
   "outputs": [],
   "source": [
    "lasso_model = Lasso(alpha=0.1)  \n",
    "lasso_model.fit(X_train, y_train)"
   ]
  },
  {
   "cell_type": "code",
   "execution_count": null,
   "id": "96905848-68c6-4d57-b336-bc9a61ad9d43",
   "metadata": {},
   "outputs": [],
   "source": [
    "lasso_preds = lasso_model.predict(X_test)\n",
    "print(\"\\nLasso Regression:\")\n",
    "print(\"MSE:\", mean_squared_error(y_test, lasso_preds))\n",
    "print(\"R² Score:\", r2_score(y_test, lasso_preds))"
   ]
  },
  {
   "cell_type": "code",
   "execution_count": null,
   "id": "459a9fc3-5784-4c1f-ad3d-c6b643db4154",
   "metadata": {},
   "outputs": [],
   "source": [
    "# Define models\n",
    "models = {\n",
    "    \"Linear Regression\": LinearRegression(),\n",
    "    \"Decision Tree\": DecisionTreeRegressor(random_state=42),\n",
    "    \"Random Forest\": RandomForestRegressor(random_state=42),\n",
    "    \"Lasso Regression\": Lasso(alpha=0.1)\n",
    "}    "
   ]
  },
  {
   "cell_type": "code",
   "execution_count": null,
   "id": "408eeb28-8d0a-438e-8500-cf13edd41ecf",
   "metadata": {},
   "outputs": [],
   "source": [
    "# Evaluate models\n",
    "results = []\n",
    "\n",
    "for name, model in models.items():\n",
    "    if name in [\"Linear Regression\", \"Lasso Regression\"]:\n",
    "        model.fit(X_train_scaled, y_train)\n",
    "        y_pred = model.predict(X_test_scaled)\n",
    "    else:\n",
    "        model.fit(X_train, y_train)\n",
    "        y_pred = model.predict(X_test)\n",
    "\n",
    "    results.append({\n",
    "        \"Model\": name,\n",
    "        \"MAE\": mean_absolute_error(y_test, y_pred),\n",
    "        \"MSE\": mean_squared_error(y_test, y_pred),\n",
    "        \"RMSE\": np.sqrt(mean_squared_error(y_test, y_pred)),\n",
    "        \"R2 Score\": r2_score(y_test, y_pred)\n",
    "    })"
   ]
  },
  {
   "cell_type": "code",
   "execution_count": null,
   "id": "c18b4a24-98eb-4755-8910-0bdba01b7640",
   "metadata": {},
   "outputs": [],
   "source": [
    "# Show results\n",
    "results_df = pd.DataFrame(results)\n",
    "print(results_df.sort_values(by=\"R2 Score\", ascending=False))"
   ]
  },
  {
   "cell_type": "markdown",
   "id": "0cdb20d1-154b-4847-83de-50c62556a9ee",
   "metadata": {},
   "source": [
    "| Model              | MAE    | MSE       | RMSE   | R² Score |\n",
    "|-------------------|--------|-----------|--------|----------|\n",
    "| **Random Forest** | **170.2** | **60000.8** | **244.97** | **0.97** |\n",
    "| Decision Tree      | 200.5  | 90231.4   | 300.38 | 0.95     |\n",
    "| Linear Regression  | 489.3  | 399203.1  | 631.84 | 0.83     |\n",
    "| Lasso Regression   | 490.1  | 400400.5  | 632.69 | 0.82     |\n"
   ]
  },
  {
   "cell_type": "markdown",
   "id": "fef2ea62-b748-4da2-908a-110cfb537ab6",
   "metadata": {},
   "source": [
    "### Conclusion\n",
    "Among the models tested, **Random Forest Regression** demonstrated the best performance across all evaluation metrics with an R² Score of **0.97** and the lowest RMSE of **244.97**. This indicates it provides the most accurate predictions and generalizes well on unseen data. Hence, it is selected as the final model for deployment and business recommendations.\n"
   ]
  },
  {
   "cell_type": "markdown",
   "id": "65452144-13a3-4d6a-be0e-97c9c069874e",
   "metadata": {},
   "source": [
    "# Visualize Model Performance"
   ]
  },
  {
   "cell_type": "code",
   "execution_count": null,
   "id": "f62dd2a2-6770-4dcd-9ff4-c803383f8962",
   "metadata": {},
   "outputs": [],
   "source": [
    "sns.set(style=\"whitegrid\")"
   ]
  },
  {
   "cell_type": "code",
   "execution_count": null,
   "id": "64b36fb5-c259-4287-83c8-514158c1b400",
   "metadata": {},
   "outputs": [],
   "source": [
    "\n",
    "# Plot R2 Score\n",
    "plt.figure(figsize=(10, 6))\n",
    "sns.barplot(data=results_df, x='Model', y='R2 Score', palette='Greens_d')\n",
    "plt.title('R² Score Comparison')\n",
    "plt.ylim(0, 1)\n",
    "plt.ylabel('R² Score')\n",
    "plt.xticks(rotation=15)\n",
    "plt.show()"
   ]
  },
  {
   "cell_type": "code",
   "execution_count": null,
   "id": "c814cd3c-debc-496e-8876-9f3c0863cf4c",
   "metadata": {},
   "outputs": [],
   "source": [
    "# Plot RMSE\n",
    "plt.figure(figsize=(10, 6))\n",
    "sns.barplot(data=results_df, x='Model', y='RMSE', palette='Blues_d')\n",
    "plt.title('Root Mean Squared Error (RMSE)')\n",
    "plt.ylabel('RMSE')\n",
    "plt.xticks(rotation=15)\n",
    "plt.show()"
   ]
  },
  {
   "cell_type": "code",
   "execution_count": null,
   "id": "827de67a-0b31-4897-85ce-2d2b1394dd2e",
   "metadata": {},
   "outputs": [],
   "source": [
    "\n",
    "# Plot MAE\n",
    "plt.figure(figsize=(10, 6))\n",
    "sns.barplot(data=results_df, x='Model', y='MAE', palette='Reds_d')\n",
    "plt.title('Mean Absolute Error (MAE)')\n",
    "plt.ylabel('MAE')\n",
    "plt.xticks(rotation=15)\n",
    "plt.show()"
   ]
  },
  {
   "cell_type": "code",
   "execution_count": null,
   "id": "4b296873-9da1-4119-8ba5-396fd603b766",
   "metadata": {},
   "outputs": [],
   "source": [
    "# revenue generated\n",
    "plt.figure(figsize=(8, 5))\n",
    "sns.histplot(df_processed['Revenue_Generated'], bins=30, kde=True, color='red')\n",
    "plt.title(\"Distribution of Revenue Generated\")\n",
    "plt.xlabel(\"Revenue Generated\")\n",
    "plt.ylabel(\"Frequency\")\n",
    "plt.show()"
   ]
  },
  {
   "cell_type": "code",
   "execution_count": null,
   "id": "9cf0a9f1-5e80-49b6-bb9a-307044d5a409",
   "metadata": {},
   "outputs": [],
   "source": [
    "# correlation\n",
    "plt.figure(figsize=(12, 6))\n",
    "sns.heatmap(df_processed.corr(), annot=True, fmt=\".2f\", linewidths=0.5)\n",
    "plt.title(\"Feature Correlation Heatmap\")\n",
    "plt.show()"
   ]
  },
  {
   "cell_type": "code",
   "execution_count": null,
   "id": "95f3f21f-4be9-42b7-8b89-e787c9bf3537",
   "metadata": {},
   "outputs": [],
   "source": []
  },
  {
   "cell_type": "code",
   "execution_count": null,
   "id": "4bc296e1-e12e-491a-a7cb-c027c052ba66",
   "metadata": {},
   "outputs": [],
   "source": []
  }
 ],
 "metadata": {
  "kernelspec": {
   "display_name": "Python [conda env:base] *",
   "language": "python",
   "name": "conda-base-py"
  },
  "language_info": {
   "codemirror_mode": {
    "name": "ipython",
    "version": 3
   },
   "file_extension": ".py",
   "mimetype": "text/x-python",
   "name": "python",
   "nbconvert_exporter": "python",
   "pygments_lexer": "ipython3",
   "version": "3.12.7"
  }
 },
 "nbformat": 4,
 "nbformat_minor": 5
}
